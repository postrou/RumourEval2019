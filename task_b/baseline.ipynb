{
 "cells": [
  {
   "cell_type": "markdown",
   "metadata": {},
   "source": [
    "# Baseline"
   ]
  },
  {
   "cell_type": "markdown",
   "metadata": {},
   "source": [
    "## Test area"
   ]
  },
  {
   "cell_type": "markdown",
   "metadata": {},
   "source": [
    "## Task B"
   ]
  },
  {
   "cell_type": "markdown",
   "metadata": {},
   "source": [
    "### Imports"
   ]
  },
  {
   "cell_type": "code",
   "execution_count": 17,
   "metadata": {},
   "outputs": [
    {
     "name": "stdout",
     "output_type": "stream",
     "text": [
      "The autoreload extension is already loaded. To reload it, use:\n",
      "  %reload_ext autoreload\n"
     ]
    }
   ],
   "source": [
    "import numpy as np\n",
    "import pandas as pd\n",
    "from linear_data_load import *\n",
    "from submission import *\n",
    "\n",
    "%load_ext autoreload\n",
    "%autoreload 2"
   ]
  },
  {
   "cell_type": "markdown",
   "metadata": {},
   "source": [
    "### Data load"
   ]
  },
  {
   "cell_type": "code",
   "execution_count": 2,
   "metadata": {},
   "outputs": [],
   "source": [
    "data_dir = '../rumoureval-2019-training-data'"
   ]
  },
  {
   "cell_type": "code",
   "execution_count": 3,
   "metadata": {},
   "outputs": [],
   "source": [
    "a_train_data, a_dev_data, \\\n",
    "b_train_data, b_dev_data, data_struct = build_dataset(data_dir)"
   ]
  },
  {
   "cell_type": "code",
   "execution_count": 4,
   "metadata": {},
   "outputs": [
    {
     "name": "stderr",
     "output_type": "stream",
     "text": [
      "/home/twlvth/Documents/venvs/nlp_mipt/lib/python3.6/site-packages/pandas/core/indexing.py:543: SettingWithCopyWarning: \n",
      "A value is trying to be set on a copy of a slice from a DataFrame.\n",
      "Try using .loc[row_indexer,col_indexer] = value instead\n",
      "\n",
      "See the caveats in the documentation: http://pandas.pydata.org/pandas-docs/stable/indexing.html#indexing-view-versus-copy\n",
      "  self.obj[item] = s\n"
     ]
    },
    {
     "data": {
      "text/html": [
       "<div>\n",
       "<style scoped>\n",
       "    .dataframe tbody tr th:only-of-type {\n",
       "        vertical-align: middle;\n",
       "    }\n",
       "\n",
       "    .dataframe tbody tr th {\n",
       "        vertical-align: top;\n",
       "    }\n",
       "\n",
       "    .dataframe thead th {\n",
       "        text-align: right;\n",
       "    }\n",
       "</style>\n",
       "<table border=\"1\" class=\"dataframe\">\n",
       "  <thead>\n",
       "    <tr style=\"text-align: right;\">\n",
       "      <th></th>\n",
       "      <th>support</th>\n",
       "      <th>deny</th>\n",
       "    </tr>\n",
       "  </thead>\n",
       "  <tbody>\n",
       "    <tr>\n",
       "      <th>18dmb4</th>\n",
       "      <td>0.000000</td>\n",
       "      <td>0.000000</td>\n",
       "    </tr>\n",
       "    <tr>\n",
       "      <th>1hzz6y</th>\n",
       "      <td>0.000000</td>\n",
       "      <td>0.000000</td>\n",
       "    </tr>\n",
       "    <tr>\n",
       "      <th>1i8cy7</th>\n",
       "      <td>0.000000</td>\n",
       "      <td>0.000000</td>\n",
       "    </tr>\n",
       "    <tr>\n",
       "      <th>249p6c</th>\n",
       "      <td>0.000000</td>\n",
       "      <td>0.555556</td>\n",
       "    </tr>\n",
       "    <tr>\n",
       "      <th>25bvmb</th>\n",
       "      <td>0.285714</td>\n",
       "      <td>0.000000</td>\n",
       "    </tr>\n",
       "  </tbody>\n",
       "</table>\n",
       "</div>"
      ],
      "text/plain": [
       "         support      deny\n",
       "18dmb4  0.000000  0.000000\n",
       "1hzz6y  0.000000  0.000000\n",
       "1i8cy7  0.000000  0.000000\n",
       "249p6c  0.000000  0.555556\n",
       "25bvmb  0.285714  0.000000"
      ]
     },
     "execution_count": 4,
     "metadata": {},
     "output_type": "execute_result"
    }
   ],
   "source": [
    "train_data = lin_rumour_data(a_train_data, b_train_data, data_struct)\n",
    "X_train, y_train = remove_unverified(train_data)\n",
    "X_train.head()"
   ]
  },
  {
   "cell_type": "code",
   "execution_count": 5,
   "metadata": {},
   "outputs": [
    {
     "data": {
      "text/html": [
       "<div>\n",
       "<style scoped>\n",
       "    .dataframe tbody tr th:only-of-type {\n",
       "        vertical-align: middle;\n",
       "    }\n",
       "\n",
       "    .dataframe tbody tr th {\n",
       "        vertical-align: top;\n",
       "    }\n",
       "\n",
       "    .dataframe thead th {\n",
       "        text-align: right;\n",
       "    }\n",
       "</style>\n",
       "<table border=\"1\" class=\"dataframe\">\n",
       "  <thead>\n",
       "    <tr style=\"text-align: right;\">\n",
       "      <th></th>\n",
       "      <th>support</th>\n",
       "      <th>deny</th>\n",
       "    </tr>\n",
       "  </thead>\n",
       "  <tbody>\n",
       "    <tr>\n",
       "      <th>1jvbd8</th>\n",
       "      <td>0.000000</td>\n",
       "      <td>0.000000</td>\n",
       "    </tr>\n",
       "    <tr>\n",
       "      <th>31xv6u</th>\n",
       "      <td>0.052632</td>\n",
       "      <td>0.052632</td>\n",
       "    </tr>\n",
       "    <tr>\n",
       "      <th>4dfdvo</th>\n",
       "      <td>0.000000</td>\n",
       "      <td>0.083333</td>\n",
       "    </tr>\n",
       "    <tr>\n",
       "      <th>524923293711998976</th>\n",
       "      <td>0.000000</td>\n",
       "      <td>0.000000</td>\n",
       "    </tr>\n",
       "    <tr>\n",
       "      <th>524936793633083394</th>\n",
       "      <td>0.052632</td>\n",
       "      <td>0.000000</td>\n",
       "    </tr>\n",
       "  </tbody>\n",
       "</table>\n",
       "</div>"
      ],
      "text/plain": [
       "                     support      deny\n",
       "1jvbd8              0.000000  0.000000\n",
       "31xv6u              0.052632  0.052632\n",
       "4dfdvo              0.000000  0.083333\n",
       "524923293711998976  0.000000  0.000000\n",
       "524936793633083394  0.052632  0.000000"
      ]
     },
     "execution_count": 5,
     "metadata": {},
     "output_type": "execute_result"
    }
   ],
   "source": [
    "dev_data = lin_rumour_data(a_dev_data, b_dev_data, data_struct)\n",
    "X_dev, y_dev = remove_unverified(dev_data)\n",
    "X_dev.head()"
   ]
  },
  {
   "cell_type": "markdown",
   "metadata": {},
   "source": [
    "### Linear"
   ]
  },
  {
   "cell_type": "code",
   "execution_count": 23,
   "metadata": {},
   "outputs": [],
   "source": [
    "from sklearn.tree import DecisionTreeClassifier\n",
    "from sklearn.metrics import f1_score, accuracy_score"
   ]
  },
  {
   "cell_type": "code",
   "execution_count": 7,
   "metadata": {},
   "outputs": [],
   "source": [
    "model = DecisionTreeClassifier()"
   ]
  },
  {
   "cell_type": "markdown",
   "metadata": {},
   "source": [
    "#### Train"
   ]
  },
  {
   "cell_type": "code",
   "execution_count": 8,
   "metadata": {},
   "outputs": [
    {
     "data": {
      "text/plain": [
       "DecisionTreeClassifier(class_weight=None, criterion='gini', max_depth=None,\n",
       "            max_features=None, max_leaf_nodes=None,\n",
       "            min_impurity_decrease=0.0, min_impurity_split=None,\n",
       "            min_samples_leaf=1, min_samples_split=2,\n",
       "            min_weight_fraction_leaf=0.0, presort=False, random_state=None,\n",
       "            splitter='best')"
      ]
     },
     "execution_count": 8,
     "metadata": {},
     "output_type": "execute_result"
    }
   ],
   "source": [
    "model.fit(X_train, y_train)"
   ]
  },
  {
   "cell_type": "code",
   "execution_count": 25,
   "metadata": {},
   "outputs": [],
   "source": [
    "y_pred = model.predict(X_train)"
   ]
  },
  {
   "cell_type": "code",
   "execution_count": 26,
   "metadata": {},
   "outputs": [
    {
     "name": "stdout",
     "output_type": "stream",
     "text": [
      "accuracy: 0.8475336322869955\n",
      "f1: 0.8874172185430463\n"
     ]
    }
   ],
   "source": [
    "print(f'accuracy: {accuracy_score(y_train, y_pred)}')\n",
    "print(f'f1: {f1_score(y_train, y_pred)}')"
   ]
  },
  {
   "cell_type": "markdown",
   "metadata": {},
   "source": [
    "#### Test"
   ]
  },
  {
   "cell_type": "code",
   "execution_count": 27,
   "metadata": {},
   "outputs": [],
   "source": [
    "y_pred = model.predict(X_dev)"
   ]
  },
  {
   "cell_type": "code",
   "execution_count": 28,
   "metadata": {},
   "outputs": [
    {
     "name": "stdout",
     "output_type": "stream",
     "text": [
      "accuracy: 0.6551724137931034\n",
      "f1: 0.6428571428571429\n"
     ]
    }
   ],
   "source": [
    "print(f'accuracy: {accuracy_score(y_dev, y_pred)}')\n",
    "print(f'f1: {f1_score(y_dev, y_pred)}')"
   ]
  },
  {
   "cell_type": "code",
   "execution_count": 13,
   "metadata": {},
   "outputs": [
    {
     "data": {
      "text/plain": [
       "(38, 3)"
      ]
     },
     "execution_count": 13,
     "metadata": {},
     "output_type": "execute_result"
    }
   ],
   "source": [
    "dev_data.shape"
   ]
  },
  {
   "cell_type": "code",
   "execution_count": 14,
   "metadata": {},
   "outputs": [
    {
     "data": {
      "text/plain": [
       "array([0.31914894, 0.        , 0.5       , 1.        , 1.        ,\n",
       "       0.31914894, 0.31914894, 0.31914894, 0.        , 0.        ,\n",
       "       0.        , 0.        , 0.        , 0.        , 0.31914894,\n",
       "       0.        , 1.        , 0.31914894, 0.        , 1.        ,\n",
       "       1.        , 1.        , 0.        , 0.31914894, 1.        ,\n",
       "       1.        , 0.        , 0.66666667, 1.        , 1.        ,\n",
       "       0.        , 0.        , 1.        , 0.31914894, 0.31914894,\n",
       "       0.66666667, 1.        , 0.31914894])"
      ]
     },
     "execution_count": 14,
     "metadata": {},
     "output_type": "execute_result"
    }
   ],
   "source": [
    "y_pred_pr = model.predict_proba(dev_data.loc[:, ['support', 'deny']])[:, 0]\n",
    "y_pred_pr"
   ]
  },
  {
   "cell_type": "code",
   "execution_count": 21,
   "metadata": {},
   "outputs": [],
   "source": [
    "make_submission('subtaskbenglish', dev_data.index, y_pred_pr)"
   ]
  },
  {
   "cell_type": "code",
   "execution_count": 22,
   "metadata": {},
   "outputs": [
    {
     "name": "stdout",
     "output_type": "stream",
     "text": [
      "{\"subtaskbenglish\": {\"1jvbd8\": [\"false\", 0.36170212765957444], \"31xv6u\": [\"false\", 1.0], \"498293668655423488\": [\"unverified\", 0.0], \"498486826269548545\": [\"true\", 1.0], \"4dfdvo\": [\"true\", 1.0], \"500280249629036544\": [\"false\", 0.36170212765957444], \"500298588992593920\": [\"false\", 0.36170212765957444], \"524923293711998976\": [\"false\", 0.36170212765957444], \"524936793633083394\": [\"false\", 1.0], \"524941720249978880\": [\"false\", 1.0], \"524948206023880704\": [\"false\", 1.0], \"524961721744900097\": [\"false\", 1.0], \"544274544174071809\": [\"false\", 1.0], \"544294893146091520\": [\"false\", 1.0], \"544315472075042818\": [\"false\", 0.36170212765957444], \"552788945017516032\": [\"false\", 1.0], \"553480082996879360\": [\"true\", 1.0], \"553553288625672192\": [\"false\", 0.36170212765957444], \"553561170637238272\": [\"false\", 1.0], \"580352273001410560\": [\"true\", 1.0], \"581153923987206146\": [\"true\", 1.0], \"581290271997968384\": [\"true\", 1.0], \"581359544682614784\": [\"false\", 1.0], \"5qzxep\": [\"false\", 0.36170212765957444], \"66yxyf\": [\"true\", 1.0], \"6hb6b3\": [\"true\", 1.0], \"758159624122097664\": [\"false\", 1.0], \"763098277986209792\": [\"true\", 0.33333333333333326], \"764927075522260992\": [\"true\", 1.0], \"767725956706414592\": [\"true\", 1.0], \"768859780240773121\": [\"false\", 1.0], \"769988636754505729\": [\"false\", 1.0], \"774991078265094144\": [\"true\", 1.0], \"775057555865206784\": [\"false\", 0.36170212765957444], \"7d28gk\": [\"false\", 0.36170212765957444], \"83ddtk\": [\"true\", 0.33333333333333326], \"8j9s33\": [\"true\", 1.0], \"934q6t\": [\"false\", 0.36170212765957444]}}"
     ]
    }
   ],
   "source": [
    "!cat submission.json"
   ]
  },
  {
   "cell_type": "code",
   "execution_count": null,
   "metadata": {},
   "outputs": [],
   "source": []
  }
 ],
 "metadata": {
  "kernelspec": {
   "display_name": "Python 3.6 nlp_mipt",
   "language": "python",
   "name": "nlp_mipt"
  },
  "language_info": {
   "codemirror_mode": {
    "name": "ipython",
    "version": 3
   },
   "file_extension": ".py",
   "mimetype": "text/x-python",
   "name": "python",
   "nbconvert_exporter": "python",
   "pygments_lexer": "ipython3",
   "version": "3.6.6"
  }
 },
 "nbformat": 4,
 "nbformat_minor": 2
}
